{
 "cells": [
  {
   "cell_type": "markdown",
   "metadata": {},
   "source": [
    "# OpenStreetMap Data Case Study\n"
   ]
  },
  {
   "cell_type": "markdown",
   "metadata": {},
   "source": [
    "\n",
    "### Map Location\n",
    "\n",
    "In this case study, the mapping data of Phoenix, Arizona is wrangled utilizing Python and queried using a local sqlite database.  The exact area of the map can be extracted at the following link:\n",
    "\n",
    "https://mapzen.com/data/metro-extracts/metro/phoenix_arizona/\n",
    "\n",
    "Note that the Raw OSM XML file was selected for download. "
   ]
  },
  {
   "cell_type": "markdown",
   "metadata": {},
   "source": [
    "## Challenges Encountered During Wrangling\n",
    "\n",
    "Various challenges arised in the initial wrangling phase of the case study mostly relating to the lack of consistency across data entries.  Several of these inconsistencies are detailed below.\n",
    "\n",
    "\n",
    "### Punctuation in Addresses\n",
    "\n",
    "Street addresses in the dataset had variable amounts of punctuation depending on the entry. For example, one entry looks like the following:\n",
    "\n",
    "    E. Marilyn Rd., Bldg. 4, Ste. 130\n",
    "\n",
    "On the other hand, another street address entry in the same dataset looks as follows:\n",
    "\n",
    "    West Larkspur Drive\n",
    "\n",
    "To address this, all of the street name entries were debreviated to ensure consistency across the dataset.  The function update_name along with a couple of regular expressions accomplishes this. \n"
   ]
  },
  {
   "cell_type": "markdown",
   "metadata": {},
   "source": [
    "---------\n",
    "```python \n",
    "#Regular expression to find street names and cardinal directions\n",
    "street_type_re = re.compile(r'\\b\\S+\\.?$', re.IGNORECASE)\n",
    "direction_type_re = re.compile(r'(N |E |S |W |N\\.|S\\.|E\\.|W\\.)')\n",
    "\n",
    "\n",
    "def update_name(name, mapping):\n",
    "    '''this function updates the address name such that it unabbreviates street types, \n",
    "        directions, and removes commas in the addresses as to assure data consistency\n",
    "        across all data entries'''\n",
    "    m = street_type_re.search(name)\n",
    "    n = direction_type_re.match(name)\n",
    "    if n:\n",
    "        name = re.sub(n.group(), mapping[n.group()], name)\n",
    "        name = name.replace(',', '')\n",
    "    if m.group() not in expected:\n",
    "            if m.group() in mapping.keys():\n",
    "                name = re.sub(m.group(), mapping[m.group()], name)\n",
    "                name = name.replace(',' ,'')\n",
    "    return name\n",
    " ```\n",
    " ----------"
   ]
  },
  {
   "cell_type": "markdown",
   "metadata": {},
   "source": [
    "### Inconsistent Postal Code Formatting\n",
    "\n",
    "Another issue in the data is the various representations of the postal codes.  The general formats are replicated below where 'X' represents a digit:\n",
    "\n",
    "    (1) AZ XXXXX\n",
    "    (2) XXXXX-XXXX\n",
    "    (3) XXXXX"
   ]
  },
  {
   "cell_type": "markdown",
   "metadata": {},
   "source": [
    "Since each format consisted of a sequence of five numbers that determine an entry's zip code, it seemed reasonable to condense each postal code entry to the one depicted by (3).  This was done by integrating the update_postcode function into the auditing process, which is replicated below.  "
   ]
  },
  {
   "cell_type": "markdown",
   "metadata": {},
   "source": [
    "----\n",
    "```python\n",
    "def update_postcode(postcode):\n",
    "    '''This function updates the postcodes to a standard 5 digit number'''\n",
    "    if 'AZ' in postcode:\n",
    "        new_post_code = postcode.strip('AZ ')[0:5]\n",
    "    else:\n",
    "        new_post_code = postcode[0:5]\n",
    "    return new_post_code\n",
    "```\n",
    "----"
   ]
  },
  {
   "cell_type": "markdown",
   "metadata": {
    "collapsed": true
   },
   "source": [
    "The above function did not resolve all of the postal code formatting inconsistencies, however. To examine this further, a simple query to filter out any post code value above 85999 and less than 85000 (since all Phoenix post codes begin with '85') can be performed.  This query, along with its output is replicated below.  "
   ]
  },
  {
   "cell_type": "markdown",
   "metadata": {},
   "source": [
    "```mysql\n",
    "SELECT value, count(*) as num FROM node_tags\n",
    "WHERE key = 'postcode'AND (value > 85999 OR value < 85000)\n",
    "GROUP BY value ORDER BY num;\n",
    "```"
   ]
  },
  {
   "cell_type": "markdown",
   "metadata": {},
   "source": [
    "----\n",
    "    Post Code Count \n",
    "    82381      1\n",
    "    83003      1\n",
    "    92127      1\n",
    "    95295      1\n",
    "    99352      1\n",
    "    \n",
    "----"
   ]
  },
  {
   "cell_type": "markdown",
   "metadata": {},
   "source": [
    "It looks like there are at least five additional postal codes that need to either be corrected or removed from the database. Another query can be used to identify the id values for each of these post codes. Then, each respective entry can be investigated further to determine if the post code is a potential typo or just a misplaced data entry.   "
   ]
  },
  {
   "cell_type": "markdown",
   "metadata": {},
   "source": [
    "```mysql\n",
    "SELECT id, value FROM node_tags WHERE key = \"postcode\" \n",
    "AND (value = \"82381\" OR value = \"83003\" OR value = \"92127\" OR value = \"95295\" OR value = \"99352\");\n",
    "```"
   ]
  },
  {
   "cell_type": "markdown",
   "metadata": {},
   "source": [
    "----\n",
    "         id      Post Code\n",
    "     150964064     83003\n",
    "    1383542330     82381\n",
    "    4605850963     92127\n",
    "    4658055481     95295\n",
    "    4792771037     99352\n",
    "    \n",
    "----"
   ]
  },
  {
   "cell_type": "markdown",
   "metadata": {},
   "source": [
    "```mysql\n",
    "SELECT id, value FROM node_tags \n",
    "WHERE (key = 'state') AND \n",
    "(id = 4792771037 OR id = 150964064 OR id = 1383542330 OR id = 4605850963 OR id = 4658055481);\n",
    "```"
   ]
  },
  {
   "cell_type": "markdown",
   "metadata": {},
   "source": [
    "----\n",
    "        id      State\n",
    "    1383542330    AZ\n",
    "    4605850963    CA\n",
    "    4658055481    AZ\n",
    "    4792771037    WA\n",
    "    \n",
    "----"
   ]
  },
  {
   "cell_type": "markdown",
   "metadata": {},
   "source": [
    "From the above table, it looks like a couple of the entries are not even from Arizona, so they should be deleted accordingly from both the node and node_tags tables respectively."
   ]
  },
  {
   "cell_type": "markdown",
   "metadata": {},
   "source": [
    "```mysql\n",
    "DELETE FROM node WHERE id = 4792771037;\n",
    "DELETE FROM node_tags WHERE id = 4792771037;\n",
    "DELETE FROM nodes WHERE id = 4605850963;\n",
    "DELETE FROM node_tags WHERE id = 4605850963;\n",
    "```"
   ]
  },
  {
   "cell_type": "markdown",
   "metadata": {},
   "source": [
    "The additional two entries with postal code discrepancies and state data will need to be investigated further.  It would be useful to look into the actual addresses of each entry."
   ]
  },
  {
   "cell_type": "markdown",
   "metadata": {},
   "source": [
    "```mysql\n",
    "SELECT id, value FROM node_tags \n",
    "WHERE (key = 'housenumber' OR key = 'street') \n",
    "AND (id = 1383542330 or id = 4658055481);\n",
    "```"
   ]
  },
  {
   "cell_type": "markdown",
   "metadata": {},
   "source": [
    "----\n",
    "        id                Value\n",
    "    1383542330  West Larkspur Drive\n",
    "    1383542330                 8215\n",
    "    4658055481                 1925\n",
    "    4658055481  South Coronado Road\n",
    "    \n",
    "----"
   ]
  },
  {
   "cell_type": "markdown",
   "metadata": {},
   "source": [
    "A quick google search of the following addresses, \"8215 West Larkspur Drive\" and \"1925 South Coronado Road\", shows that the actual zip codes of these addresses are \"85381\" and \"85925\" respectively. These can be updated with the following SQL queries:"
   ]
  },
  {
   "cell_type": "markdown",
   "metadata": {},
   "source": [
    "```mysql \n",
    "UPDATE node_tags\n",
    "SET value = '85381'\n",
    "WHERE id = 1383542330 and key = 'postcode';\n",
    "```"
   ]
  },
  {
   "cell_type": "markdown",
   "metadata": {},
   "source": [
    "```mysql\n",
    "UPDATE node_tags\n",
    "SET value = '85295'\n",
    "WHERE id = 4658055481 and key = 'postcode';\n",
    "```"
   ]
  },
  {
   "cell_type": "markdown",
   "metadata": {},
   "source": [
    "The final post code value that needs to be dealt with is the entry with corresponding id = '150964064'.  Looking into the key values for each of its entries, it looks like the information was collected from Wikipedia.  Wikipedia pointed to another website in order to get the postal code information and that website can be found using the below query:"
   ]
  },
  {
   "cell_type": "markdown",
   "metadata": {},
   "source": [
    "```mysql\n",
    "SELECT id, key, value FROM node_tags \n",
    "WHERE key = 'website' \n",
    "AND id = 150964064;\n",
    "```"
   ]
  },
  {
   "cell_type": "markdown",
   "metadata": {},
   "source": [
    "----\n",
    "        id      key            value\n",
    "    150964064  website  http://phoenix.gov/\n",
    "    \n",
    "----"
   ]
  },
  {
   "cell_type": "markdown",
   "metadata": {},
   "source": [
    "Going to the website mentioned, and scrolling down to the bottom of page, it is clear that the postal code should have been \"85003\" instead of \"83003\".  A screenshot of this is shown below.\n",
    "\n",
    "\n",
    "----"
   ]
  },
  {
   "cell_type": "markdown",
   "metadata": {},
   "source": [
    "\n",
    "\n",
    "\n",
    "\n",
    "<img src=\"phx_screenshot.png\">\n",
    "\n",
    "----"
   ]
  },
  {
   "cell_type": "markdown",
   "metadata": {},
   "source": [
    "Finally, the entry can be updated in the node_tags table so that the postal code accurately reflects the data entry. "
   ]
  },
  {
   "cell_type": "markdown",
   "metadata": {},
   "source": [
    "```mysql\n",
    "UPDATE node_tags\n",
    "SET value = '85003'\n",
    "WHERE id = 150964064 and key = 'postcode';\n",
    "```"
   ]
  },
  {
   "cell_type": "markdown",
   "metadata": {},
   "source": [
    "## Overview of the Phoenix Area\n",
    "\n",
    "After wrangling, auditing, and correcting the data, it can now be further explored utilizing a series of SQL queries. Some statistics will first be summarized such as the size of the datasets, the contributor information, and the number of nodes and ways. Then, certain nodes will be investigated deeper. \n"
   ]
  },
  {
   "cell_type": "markdown",
   "metadata": {},
   "source": [
    "### Size of the Data\n",
    "----\n",
    "        File             Size\n",
    "    phoenix_arizona.osm  700 MB\n",
    "    phoenix_az.db        404 MB\n",
    "    nodes.csv            256 MB\n",
    "    node_tags.csv         11 MB\n",
    "    ways.csv              25 MB\n",
    "    ways_tags.csv         87 MB\n",
    "    ways_nodes.cv         67 MB  \n",
    "    \n",
    "----"
   ]
  },
  {
   "cell_type": "markdown",
   "metadata": {},
   "source": [
    "### Number of Unique Users"
   ]
  },
  {
   "cell_type": "markdown",
   "metadata": {},
   "source": [
    "```mysql\n",
    "SELECT COUNT(DISTINCT(nodes_and_ways.uid))          \n",
    "FROM (SELECT uid FROM node UNION ALL SELECT uid FROM way) nodes_and_ways;\n",
    "\n",
    "```"
   ]
  },
  {
   "cell_type": "markdown",
   "metadata": {},
   "source": [
    "----\n",
    "1517\n",
    "\n",
    "----"
   ]
  },
  {
   "cell_type": "markdown",
   "metadata": {},
   "source": [
    "### Number of Nodes and Ways"
   ]
  },
  {
   "cell_type": "markdown",
   "metadata": {},
   "source": [
    "```mysql\n",
    "SELECT count(id) from node;\n",
    "```"
   ]
  },
  {
   "cell_type": "markdown",
   "metadata": {},
   "source": [
    "  ----\n",
    "    3157146\n",
    "\n",
    "----"
   ]
  },
  {
   "cell_type": "markdown",
   "metadata": {},
   "source": [
    "```mysql\n",
    "SELECT count(id) from way;\n",
    "```"
   ]
  },
  {
   "cell_type": "markdown",
   "metadata": {},
   "source": [
    "----\n",
    "    427043\n",
    "\n",
    "----\n",
    "    "
   ]
  },
  {
   "cell_type": "markdown",
   "metadata": {},
   "source": [
    "### Most Common Types of Nodes"
   ]
  },
  {
   "cell_type": "markdown",
   "metadata": {},
   "source": [
    "```mysql\n",
    "SELECT key, count(*) as num from node_tags\n",
    "GROUP BY key \n",
    "ORDER BY num DESC\n",
    "LIMIT 20;\n",
    "```"
   ]
  },
  {
   "cell_type": "markdown",
   "metadata": {},
   "source": [
    "  ----\n",
    "       Node Key  Count\n",
    "        highway  87711\n",
    "          power  24577\n",
    "        natural  20466\n",
    "       crossing  16928\n",
    "        bicycle  11231\n",
    "          horse  11099\n",
    "     supervised  11022\n",
    "           name  10042\n",
    "        amenity   7860\n",
    "          state   7091\n",
    "           city   6939\n",
    "         street   6569\n",
    "    housenumber   6478\n",
    "     created_by   6334\n",
    "        barrier   6047\n",
    "       postcode   4585\n",
    "        country   4230\n",
    "        leisure   2914\n",
    "         noexit   2676\n",
    " ----"
   ]
  },
  {
   "cell_type": "markdown",
   "metadata": {},
   "source": [
    "It would be interesting to see the kind of culture Phoenix represents by examining the amenities available. "
   ]
  },
  {
   "cell_type": "markdown",
   "metadata": {},
   "source": [
    "### TOP AMENITIES"
   ]
  },
  {
   "cell_type": "markdown",
   "metadata": {},
   "source": [
    "```mysql\n",
    "SELECT value, count(*) as num from node_tags\n",
    "where key = 'amenity'\n",
    "GROUP BY value ORDER BY num DESC\n",
    "LIMIT 15;\n",
    "```"
   ]
  },
  {
   "cell_type": "markdown",
   "metadata": {},
   "source": [
    "----\n",
    "              Amenity  Count\n",
    "               bench   1114\n",
    "          restaurant    776\n",
    "           fast_food    720\n",
    "                fuel    685    \n",
    "    place_of_worship    614\n",
    "        waste_basket    609\n",
    "              school    433\n",
    "            fountain    250\n",
    "                bank    219\n",
    "            pharmacy    174\n",
    "             toilets    172\n",
    "                cafe    171\n",
    "        swimming_pool   146\n",
    "             parking     97\n",
    "        trailer_park     91\n",
    "    \n",
    "----\n"
   ]
  },
  {
   "cell_type": "markdown",
   "metadata": {},
   "source": [
    "To provide a deeper analysis of the Phoenix area, the  religious preferences, food choices, and shopping options provided to Phoenicians are detailed below.  "
   ]
  },
  {
   "cell_type": "markdown",
   "metadata": {},
   "source": [
    "### Religious Ideology\n"
   ]
  },
  {
   "cell_type": "markdown",
   "metadata": {},
   "source": [
    "To learn about the religious preferences of Phoenix denizens, the total number of places of worship for each faith can be queried by joining node_tags table to a temporary table 'A' conditioned on their id's being equivalent. "
   ]
  },
  {
   "cell_type": "markdown",
   "metadata": {},
   "source": [
    "```mysql\n",
    "SELECT value, count(*) as num \n",
    "FROM node_tags\n",
    "    JOIN (SELECT DISTINCT(id) FROM node_tags WHERE value = 'place_of_worship') A\n",
    "    ON node_tags.id = A.id\n",
    "WHERE key = 'religion' \n",
    "GROUP BY value ORDER BY num DESC\n",
    "LIMIT 5;\n",
    "```"
   ]
  },
  {
   "cell_type": "markdown",
   "metadata": {},
   "source": [
    "----\n",
    "    Religion         Total Places of worship\n",
    "    christian                563\n",
    "    jewish                    4\n",
    "    bahai                     2\n",
    "    buddhist                  1\n",
    "    muslim                    1\n",
    "    \n",
    "----"
   ]
  },
  {
   "cell_type": "markdown",
   "metadata": {},
   "source": [
    "Unsurprisingly, a preponderance of Phoenix places of worship are Christian, with a just a handful of other religious places of worship being represented.  "
   ]
  },
  {
   "cell_type": "markdown",
   "metadata": {},
   "source": [
    "### Types of Cuisine"
   ]
  },
  {
   "cell_type": "markdown",
   "metadata": {},
   "source": [
    "```mysql\n",
    "SELECT value, count(*) as num \n",
    "FROM node_tags\n",
    "    JOIN (SELECT DISTINCT(id) FROM node_tags WHERE value = 'restaurant') A\n",
    "    ON node_tags.id = A.id\n",
    "WHERE key = 'cuisine' \n",
    "GROUP BY value ORDER BY num DESC\n",
    "LIMIT 10;\n",
    "```"
   ]
  },
  {
   "cell_type": "markdown",
   "metadata": {},
   "source": [
    "----\n",
    "    Type of Cuisine  Count\n",
    "             pizza     58\n",
    "           mexican     57\n",
    "          american     36\n",
    "          sandwich     28\n",
    "           italian     26\n",
    "            burger     18\n",
    "           chinese     16\n",
    "             sushi     14\n",
    "              thai     11\n",
    "             asian     10\n",
    "             \n",
    "----"
   ]
  },
  {
   "cell_type": "markdown",
   "metadata": {},
   "source": [
    "It looks like Phoenix residents enjoy their fair share of pizza and Mexican cuisine.  It would be interesting to compare these numbers to other major metropolitan areas based on the diversity of their residents.  Phoenix, which has the sixth-highest Hispanic share of its population, reflects this diversity in their cuisines available to them."
   ]
  },
  {
   "cell_type": "markdown",
   "metadata": {},
   "source": [
    "## Additional Suggestions to the Phoenix Dataset\n",
    "\n",
    "As exemplified by the conundrum that was the inconsistency of the various postal codes within the Phoenix map data, it is clear that data quality is often compromised when human error is introduced.  An overwhelming majority of the postal code entries (all but 5) were easily dealt with a simple Python function; however, cleaning the rest of the five entries was a tedious process invoking several SQL queries.  \n",
    "\n",
    "In order to fix this issue, it would be useful to have some error correcting mechanism such that if a user inputs a postal code that is not a part of the respective city, it flags an error and reports this error to a privileged OSM user.  Then, up to the superuser's discretion, she can choose to either modify the entry, notify the user of his incorrect entry, or leave as is if there is actually no error.  This would require additional maintenance for data assurance.  Additional problems are illustrated in the following queries outlined below. \n",
    "\n"
   ]
  },
  {
   "cell_type": "markdown",
   "metadata": {},
   "source": [
    "### Most Popular Restaurants"
   ]
  },
  {
   "cell_type": "markdown",
   "metadata": {},
   "source": [
    "```mysql\n",
    "SELECT value, count(*) as num \n",
    "FROM node_tags\n",
    "    JOIN (SELECT DISTINCT(id) FROM node_tags WHERE value = 'restaurant') A\n",
    "    ON node_tags.id = A.id\n",
    "WHERE key = 'name' \n",
    "GROUP BY value ORDER BY num DESC\n",
    "LIMIT 10;\n",
    "```"
   ]
  },
  {
   "cell_type": "markdown",
   "metadata": {},
   "source": [
    "---\n",
    "                Restaurant  Count\n",
    "                   Denny's     16\n",
    "         Peter Piper Pizza      8\n",
    "                 Pizza Hut      8\n",
    "             Barro's Pizza      6\n",
    "         Native New Yorker      6\n",
    "       Streets of New York      6\n",
    "                  Chipotle      5\n",
    "    Chipotle Mexican Grill      5\n",
    "                    Subway      5\n",
    "        Buffalo Wild Wings      4\n",
    "---"
   ]
  },
  {
   "cell_type": "markdown",
   "metadata": {},
   "source": [
    "At first glance,  the top two restaurants look to be Denny's and Peter Piper Pizza.  However, Chipotle and Chipotle Mexican Grill are clearly the same restaurant and if that is taken into account, it becomes the second most popular restaurant.  A similar issue is demonstrated by cell phone providers for Phoenix. "
   ]
  },
  {
   "cell_type": "markdown",
   "metadata": {},
   "source": [
    "### Types of Shops in Phoenix"
   ]
  },
  {
   "cell_type": "markdown",
   "metadata": {},
   "source": [
    "```mysql\n",
    "SELECT value, count(*) as num FROM node_tags\n",
    "WHERE key = 'shop'\n",
    "GROUP BY value ORDER BY num DESC\n",
    "LIMIT 6;\n",
    "```"
   ]
  },
  {
   "cell_type": "markdown",
   "metadata": {},
   "source": [
    "----\n",
    "       Shop Type   count\n",
    "     convenience    562\n",
    "     supermarket    188\n",
    "         clothes    161\n",
    "      car_repair    110\n",
    "          beauty     75\n",
    "    mobile_phone     74\n",
    "    \n",
    "----"
   ]
  },
  {
   "cell_type": "markdown",
   "metadata": {},
   "source": [
    "### Most Popular Cell Phone Providers"
   ]
  },
  {
   "cell_type": "markdown",
   "metadata": {},
   "source": [
    "```mysql\n",
    "SELECT value, count(*) as num \n",
    "FROM node_tags\n",
    "    JOIN (SELECT DISTINCT(id) FROM node_tags WHERE value = 'mobile_phone') A\n",
    "    ON node_tags.id = A.id\n",
    "WHERE key = 'name' \n",
    "GROUP BY value ORDER BY num DESC\n",
    "LIMIT 8;\n",
    "```"
   ]
  },
  {
   "cell_type": "markdown",
   "metadata": {},
   "source": [
    "----\n",
    "            Provider  count\n",
    "            T-Mobile     16\n",
    "    Verizon Wireless     11\n",
    "             Cricket     10\n",
    "                AT&T      7\n",
    "              Sprint      7\n",
    "        Boost Mobile      6\n",
    "            MetroPCS      5\n",
    "           Metro PCS      2\n",
    "       \n",
    "----"
   ]
  },
  {
   "cell_type": "markdown",
   "metadata": {},
   "source": [
    "Clearly, MetroPCS and Metro PCS represent the same provider yet are depicted as distinct.  This issue can be resolved by data harmonization efforts.  This could include a mapping function that renames several possible cell phone provider pseudonyms to a \"golden standard\" nomenclature list as determined by a group of OSM superusers. This solution could be extended to other nodes such as restaurants.  Of course, this method could run into issues when new restaurants or providers open in the area and are not yet listed.  Furthermore, it still does not account for user typos and other entry errors, which would require additional maintenance if implemented.  "
   ]
  },
  {
   "cell_type": "markdown",
   "metadata": {},
   "source": [
    "By implementing the above fixes for the incorrect zip codes and naming discrepancies among the various providers/restaurants, both benefits and issues will be realized and can be summarized as follows:\n",
    "\n",
    "**Benefits:**\n",
    "* Less data cleaning performed at the user end \n",
    "* Increased data harmonization results in a more accurate dataset\n",
    "\n",
    "**Anticipated Problems:**\n",
    "* Increased code maintenance and efforts by OSM superuser\n",
    "* New restaurants will have to be consistently updated in \"golden standard\" list resulting in additional maintenance"
   ]
  },
  {
   "cell_type": "markdown",
   "metadata": {},
   "source": [
    "## Conclusion\n",
    "\n",
    "The Open Street Map data for Phoenix is in general robust and varied, with over a thousand individuals contributing to over three million nodes and ways.  With so many contributors, errors in data quality are unavoidable, leading to necessary auditing if the data is to be used in any sort of productive fashion.  Attempts to audit were done so by cleaning up street names and postal codes; however, with the massive amounts of data encompassed within the dataset, additional cleaning steps could certainly be taken to ensure an even more functional dataset.  "
   ]
  }
 ],
 "metadata": {
  "anaconda-cloud": {},
  "kernelspec": {
   "display_name": "Python 2",
   "language": "python",
   "name": "python2"
  },
  "language_info": {
   "codemirror_mode": {
    "name": "ipython",
    "version": 2
   },
   "file_extension": ".py",
   "mimetype": "text/x-python",
   "name": "python",
   "nbconvert_exporter": "python",
   "pygments_lexer": "ipython2",
   "version": "2.7.13"
  }
 },
 "nbformat": 4,
 "nbformat_minor": 2
}
